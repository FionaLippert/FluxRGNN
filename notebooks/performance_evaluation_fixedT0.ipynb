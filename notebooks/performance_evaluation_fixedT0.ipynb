{
 "cells": [
  {
   "cell_type": "code",
   "execution_count": 1,
   "metadata": {},
   "outputs": [
    {
     "name": "stderr",
     "output_type": "stream",
     "text": [
      "/home/flipper/anaconda3/envs/birdmigration/lib/python3.8/site-packages/geopandas/_compat.py:111: UserWarning: The Shapely GEOS version (3.8.0-CAPI-1.13.1 ) is incompatible with the GEOS version PyGEOS was compiled with (3.9.0-CAPI-1.16.2). Conversions between both will be slow.\n",
      "  warnings.warn(\n"
     ]
    }
   ],
   "source": [
    "import pandas as pd\n",
    "import geopandas as gpd\n",
    "import numpy as np\n",
    "import scipy as sp\n",
    "import torch\n",
    "import os\n",
    "import os.path as osp\n",
    "import seaborn as sb\n",
    "from matplotlib import pyplot as plt\n",
    "import glob\n",
    "from yaml import Loader, FullLoader, load\n",
    "import pickle5 as pickle\n",
    "from matplotlib import cm\n",
    "import itertools as it\n",
    "import networkx as nx\n",
    "import cartopy.crs as ccrs\n",
    "from cartopy.feature import ShapelyFeature\n",
    "from pyproj import Proj, transform\n",
    "from shapely import geometry\n",
    "import geoplot as gplt\n",
    "from matplotlib.ticker import FixedLocator"
   ]
  },
  {
   "cell_type": "code",
   "execution_count": 170,
   "metadata": {},
   "outputs": [],
   "source": [
    "def plot_performance(ax, df, label, metric, color, static=False, H=64, ls='standard', z=1, night=False):\n",
    "    \n",
    "    xscale = 'night_horizon' if night else 'horizon'\n",
    "    \n",
    "    df = df.query(f'{xscale} > 0 & {xscale} <= {H}')\n",
    "    \n",
    "    if static:\n",
    "        df = df.groupby('trial').aggregate(np.nanmean).reset_index()\n",
    "        avg = np.array([np.nanmean(df[metric].values)]*H)\n",
    "        std = np.array([np.nanstd(df[metric].values)]*H)\n",
    "        ls = '--' if ls == 'standard' else ls\n",
    "    else:\n",
    "        grouped = df.groupby(xscale)        \n",
    "        avg = grouped[metric].aggregate(np.nanmean).values #[-H:]\n",
    "        std = grouped[metric].aggregate(np.nanstd).values #[-H:]\n",
    "        ls = '-' if ls == 'standard' else ls\n",
    "    \n",
    "    h_range = df[xscale].unique()\n",
    "    \n",
    "    line = ax.plot(h_range, avg, label=label, ls=ls, color=color, linewidth=1.8, zorder=z)\n",
    "    ax.fill_between(h_range, avg-std, avg+std, color=color, alpha=0.2, zorder=z)"
   ]
  },
  {
   "cell_type": "code",
   "execution_count": 112,
   "metadata": {},
   "outputs": [],
   "source": [
    "home = osp.expanduser(\"~\")\n",
    "base_dir = osp.join(home, 'FluxRGNN')\n",
    "result_dir = osp.join(base_dir, 'results')\n",
    "output_dir = osp.join(base_dir, 'data', 'plots', 'final')\n",
    "os.makedirs(output_dir, exist_ok=True)"
   ]
  },
  {
   "cell_type": "code",
   "execution_count": 113,
   "metadata": {},
   "outputs": [],
   "source": [
    "C, H = 24, 72\n",
    "test_year = 2017\n",
    "\n",
    "# load configs for abm and radar experiments\n",
    "bscale = {}\n",
    "abm_cfg = osp.join(result_dir, 'abm', 'GBT', f'test_{test_year}', \n",
    "                   'final', 'trial_1', 'config.yaml')\n",
    "with open(abm_cfg) as f:\n",
    "    config = load(f, Loader=FullLoader)\n",
    "    bscale['abm'] = config['datasource']['bird_scale']\n",
    "    \n",
    "radar_cfg = osp.join(result_dir, 'radar', 'GBT', f'test_{test_year}', \n",
    "                     'final', 'trial_1', 'config.yaml')\n",
    "with open(radar_cfg) as f:\n",
    "    config = load(f, Loader=FullLoader)\n",
    "    bscale['radar'] = config['datasource']['bird_scale']"
   ]
  },
  {
   "cell_type": "code",
   "execution_count": 175,
   "metadata": {},
   "outputs": [],
   "source": [
    "# define baseline models and their labels\n",
    "baseline_models = {('HA', 'final'): 'HA',\n",
    "          ('GAM', 'final'): 'GAM',\n",
    "          ('GBT', 'final'): 'GBT'}\n",
    "\n",
    "baseline_models = {('HA', 'final'): 'Historical average',\n",
    "          ('GAM', 'final'): 'Generalized additive model',\n",
    "          ('GBT', 'final'): 'Gradient boosted regression trees'}\n",
    "# define FluxRGNN-type models and their labels\n",
    "flux_models = {    \n",
    "          ('FluxRGNN', 'final'): 'FluxRGNN', \n",
    "          ('LocalLSTM', 'final'): 'w/o fluxes',       \n",
    "          ('FluxRGNN', 'final_without_encoder'): 'w/o encoder',\n",
    "          ('FluxRGNN', 'final_without_boundary'): 'w/o boundary'}\n",
    "# define colors\n",
    "baseline_colors = ['#cccccc', '#999999', '#404040']\n",
    "baseline_ls = ['--', '-.', ':']\n",
    "flux_colors = ['#ff7f00', '#b30000', '#999966', '#008080']"
   ]
  },
  {
   "cell_type": "markdown",
   "metadata": {},
   "source": [
    "### ***Predictive performance***"
   ]
  },
  {
   "cell_type": "code",
   "execution_count": 154,
   "metadata": {},
   "outputs": [],
   "source": [
    "fixed_t0 = False\n",
    "ext = '_fixedT0' if fixed_t0 else ''\n",
    "\n",
    "fig, ax = plt.subplots(nrows=2, ncols=2, figsize=(14,7), sharex=True)\n",
    "\n",
    "for i, datasource in enumerate(['abm', 'radar']):\n",
    "    \n",
    "    # load baseline performance\n",
    "    baseline_rmse = pd.read_csv(osp.join(result_dir, datasource, \n",
    "                    f'performance_evaluation{ext}', 'final', 'rmse_per_hour.csv'))\n",
    "    baseline_pcc = pd.read_csv(osp.join(result_dir, datasource, \n",
    "                    f'performance_evaluation{ext}', 'final', 'pcc_per_hour.csv'))\n",
    "    baseline_rmse['rmse'] /= bscale[datasource]\n",
    "    \n",
    "    # load FluxRGNN performance\n",
    "    rmse_per_hour = pd.read_csv(osp.join(result_dir, datasource, \n",
    "                    f'performance_evaluation{ext}', 'ablations', 'rmse_per_hour.csv'))\n",
    "    pcc_per_hour = pd.read_csv(osp.join(result_dir, datasource, \n",
    "                    f'performance_evaluation{ext}', 'ablations', 'pcc_per_hour.csv'))\n",
    "    rmse_per_hour['rmse'] /= bscale[datasource]\n",
    "\n",
    "\n",
    "    for j, ((m, e), label) in enumerate(baseline_models.items()):\n",
    "        plot_performance(ax[0, i], baseline_rmse.query(f'model == \"{m}\" & experiment == \"{e}\"'), \n",
    "                         label, 'rmse', H=H, color=baseline_colors[j], ls=baseline_ls[j])\n",
    "        plot_performance(ax[1, i], baseline_pcc.query(f'model == \"{m}\" & experiment == \"{e}\"'), \n",
    "                         label, 'pcc', H=H, color=baseline_colors[j], ls=baseline_ls[j])\n",
    "\n",
    "    for j, ((m, e), label) in enumerate(flux_models.items()):\n",
    "        if m == 'FluxRGNN' and e == 'final':\n",
    "            z = 2\n",
    "        else:\n",
    "            z = 1\n",
    "        plot_performance(ax[0, i], rmse_per_hour.query(f'model == \"{m}\" & experiment == \"{e}\"'), \n",
    "                         label, 'rmse', H=H, color=flux_colors[j], z=z)\n",
    "        plot_performance(ax[1, i], pcc_per_hour.query(f'model == \"{m}\" & experiment == \"{e}\"'), \n",
    "                         label, 'pcc', H=H, color=flux_colors[j], z=z)\n",
    "\n",
    "    ax[1,i].set_xlabel('forcasting horizon [h]', fontsize=14)\n",
    "    \n",
    "ax[0,0].set_ylabel('RMSE', fontsize=14)\n",
    "ax[1,0].set_ylabel('Pearson r', fontsize=14)\n",
    "ax[1,0].legend(loc='upper right', fontsize=12, \n",
    "            bbox_to_anchor=(0.97,1.37), framealpha=1)\n",
    "ax[0,0].set_title('Simulated data', fontsize=14)\n",
    "ax[0,1].set_title('Radar data', fontsize=14)\n",
    "\n",
    "for axis in ax.flatten():\n",
    "    axis.tick_params(axis='both', which='major', labelsize=12)\n",
    "    axis.grid(color = 'gray', linestyle = '-', alpha=0.2)\n",
    "\n",
    "fig.subplots_adjust(wspace=0.25, hspace=0)\n",
    "fig.align_ylabels(ax)\n",
    "fig.savefig(osp.join(output_dir, f'final_rmse_pcc_per_hour{ext}.png'), bbox_inches='tight', dpi=200)"
   ]
  },
  {
   "cell_type": "code",
   "execution_count": 173,
   "metadata": {},
   "outputs": [],
   "source": [
    "H=64\n",
    "\n",
    "fixed_t0 = True\n",
    "ext = '_fixedT0' if fixed_t0 else ''\n",
    "\n",
    "fig, ax = plt.subplots(nrows=2, ncols=2, figsize=(16,7), sharex=True)\n",
    "\n",
    "for i, datasource in enumerate(['abm', 'radar']):\n",
    "    \n",
    "    # load baseline performance\n",
    "    baseline_rmse = pd.read_csv(osp.join(result_dir, datasource, \n",
    "                    f'performance_evaluation{ext}', 'final', 'rmse_per_hour.csv'))\n",
    "    baseline_pcc = pd.read_csv(osp.join(result_dir, datasource, \n",
    "                    f'performance_evaluation{ext}', 'final', 'pcc_per_hour.csv'))\n",
    "    baseline_rmse['rmse'] /= bscale[datasource]\n",
    "    \n",
    "    # load FluxRGNN performance\n",
    "    rmse_per_hour = pd.read_csv(osp.join(result_dir, datasource, \n",
    "                    f'performance_evaluation{ext}', 'ablations', 'rmse_per_hour.csv'))\n",
    "    pcc_per_hour = pd.read_csv(osp.join(result_dir, datasource, \n",
    "                    f'performance_evaluation{ext}', 'ablations', 'pcc_per_hour.csv'))\n",
    "    rmse_per_hour['rmse'] /= bscale[datasource]\n",
    "\n",
    "    for j, ((m, e), label) in enumerate(flux_models.items()):\n",
    "        if e == 'final':\n",
    "            plot_performance(ax[0, i], rmse_per_hour.query(f'model == \"{m}\" & experiment == \"{e}\"'), \n",
    "                             label, 'rmse', H=H, color=flux_colors[j], z=z)\n",
    "            plot_performance(ax[1, i], pcc_per_hour.query(f'model == \"{m}\" & experiment == \"{e}\"'), \n",
    "                             label, 'pcc', H=H, color=flux_colors[j], z=z)\n",
    "\n",
    "    ax[1,i].set_xlabel('forcasting horizon [h]', fontsize=14)\n",
    "    \n",
    "ax[0,0].set_ylabel('RMSE', fontsize=14)\n",
    "ax[1,0].set_ylabel('Pearson r', fontsize=14)\n",
    "ax[1,0].legend(loc='upper right', fontsize=12, \n",
    "            bbox_to_anchor=(0.98,1.13), \n",
    "               framealpha=1)\n",
    "ax[0,0].set_title('Simulated data', fontsize=14)\n",
    "ax[0,1].set_title('Radar data', fontsize=14)\n",
    "\n",
    "for axis in ax.flatten():\n",
    "    axis.tick_params(axis='both', which='major', labelsize=12)\n",
    "    axis.grid(color = 'gray', linestyle = '-', alpha=0.2)\n",
    "\n",
    "fig.subplots_adjust(wspace=0.15, hspace=0)\n",
    "fig.align_ylabels(ax)\n",
    "fig.savefig(osp.join(output_dir, f'fixed_rmse_pcc_per_hour{ext}.png'), bbox_inches='tight', dpi=200)"
   ]
  },
  {
   "cell_type": "code",
   "execution_count": null,
   "metadata": {},
   "outputs": [],
   "source": []
  }
 ],
 "metadata": {
  "hide_input": false,
  "kernelspec": {
   "display_name": "Python [conda env:fluxrgnn]",
   "language": "python",
   "name": "conda-env-fluxrgnn-py"
  },
  "language_info": {
   "codemirror_mode": {
    "name": "ipython",
    "version": 3
   },
   "file_extension": ".py",
   "mimetype": "text/x-python",
   "name": "python",
   "nbconvert_exporter": "python",
   "pygments_lexer": "ipython3",
   "version": "3.9.6"
  },
  "toc": {
   "base_numbering": 1,
   "nav_menu": {},
   "number_sections": true,
   "sideBar": true,
   "skip_h1_title": false,
   "title_cell": "Table of Contents",
   "title_sidebar": "Contents",
   "toc_cell": false,
   "toc_position": {},
   "toc_section_display": true,
   "toc_window_display": false
  },
  "varInspector": {
   "cols": {
    "lenName": 16,
    "lenType": 16,
    "lenVar": 40
   },
   "kernels_config": {
    "python": {
     "delete_cmd_postfix": "",
     "delete_cmd_prefix": "del ",
     "library": "var_list.py",
     "varRefreshCmd": "print(var_dic_list())"
    },
    "r": {
     "delete_cmd_postfix": ") ",
     "delete_cmd_prefix": "rm(",
     "library": "var_list.r",
     "varRefreshCmd": "cat(var_dic_list()) "
    }
   },
   "types_to_exclude": [
    "module",
    "function",
    "builtin_function_or_method",
    "instance",
    "_Feature"
   ],
   "window_display": false
  }
 },
 "nbformat": 4,
 "nbformat_minor": 4
}
