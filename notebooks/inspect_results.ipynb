{
 "cells": [
  {
   "cell_type": "code",
   "execution_count": 61,
   "id": "1366c468",
   "metadata": {
    "ExecuteTime": {
     "end_time": "2022-07-25T13:46:15.429742Z",
     "start_time": "2022-07-25T13:46:15.414163Z"
    }
   },
   "outputs": [],
   "source": [
    "import os\n",
    "import pandas as pd\n",
    "from matplotlib import pyplot as plt\n",
    "from yaml import Loader, FullLoader, load\n",
    "\n",
    "%matplotlib inline"
   ]
  },
  {
   "cell_type": "code",
   "execution_count": 8,
   "id": "ae211ace",
   "metadata": {
    "ExecuteTime": {
     "end_time": "2022-07-25T12:31:19.697917Z",
     "start_time": "2022-07-25T12:31:19.691029Z"
    }
   },
   "outputs": [],
   "source": [
    "base_dir = os.path.dirname(os.getcwd())\n",
    "result_dir = os.path.join(base_dir, 'results')"
   ]
  },
  {
   "cell_type": "markdown",
   "id": "0a7734ad",
   "metadata": {},
   "source": [
    "## Settings\n",
    "\n",
    "Please adjust the following settings depending on what you want to plot. \n",
    "\n",
    "`experiment` refers to the experiment name given to the training run that you would like to inspect. \n",
    "\n",
    "`subdir` refers to the directory to which the evaluation metrics have been written to. If you've specified the `experiment_type` when running `evaluate_performance.py`, `subdir` should be set to the same name, otherwise it should be set to `{model}_only`, where `model` is replaced by the name of the model you've been using.\n",
    "\n",
    "`metric` can be set to one of the following evaluation metrics:\n",
    "- `rmse` (root mean squared error), \n",
    "- `pcc` (Pearson correlation coefficient)\n",
    "- `mae` (mean absolute error)."
   ]
  },
  {
   "cell_type": "code",
   "execution_count": 32,
   "id": "f80e5d45",
   "metadata": {
    "ExecuteTime": {
     "end_time": "2022-07-25T13:16:18.693557Z",
     "start_time": "2022-07-25T13:16:18.685049Z"
    }
   },
   "outputs": [],
   "source": [
    "datasource = 'radar'\n",
    "model = 'FluxRGNN'\n",
    "test_year = '2017'\n",
    "experiment = 'final'\n",
    "subdir = 'final'\n",
    "metric = 'rmse'"
   ]
  },
  {
   "cell_type": "markdown",
   "id": "322dcc39",
   "metadata": {},
   "source": [
    "## Load config file"
   ]
  },
  {
   "cell_type": "code",
   "execution_count": 34,
   "id": "e31ee8c8",
   "metadata": {
    "ExecuteTime": {
     "end_time": "2022-07-25T13:20:56.584897Z",
     "start_time": "2022-07-25T13:20:56.429268Z"
    }
   },
   "outputs": [],
   "source": [
    "cfg_path = os.path.join(result_dir, datasource, model, f'test_{test_year}', \n",
    "                   experiment, 'trial_1', 'config.yaml')\n",
    "with open(cfg_path) as f:\n",
    "    config = load(f, Loader=FullLoader)"
   ]
  },
  {
   "cell_type": "markdown",
   "id": "db3047f3",
   "metadata": {},
   "source": [
    "## Plot predictive performance\n",
    "Note that here the RMSE is plotted in terms of $\\textrm{birds/km}^2$, and not in terms of rescaled quanities (between 0 and 1) as it is done in our paper. "
   ]
  },
  {
   "cell_type": "code",
   "execution_count": 63,
   "id": "a4b3c55b",
   "metadata": {
    "ExecuteTime": {
     "end_time": "2022-07-25T13:47:16.626477Z",
     "start_time": "2022-07-25T13:47:16.375714Z"
    }
   },
   "outputs": [
    {
     "data": {
      "image/png": "[encoded data removed]",
      "text/plain": [
       "<Figure size 504x288 with 1 Axes>"
      ]
     },
     "metadata": {
      "needs_background": "light"
     },
     "output_type": "display_data"
    }
   ],
   "source": [
    "eval_path = os.path.join(result_dir, datasource, 'performance_evaluation', subdir)\n",
    "df = pd.read_csv(os.path.join(eval_path, f'{metric}_per_hour.csv'))\n",
    "df = df.query(f'horizon > 0 & horizon <= 72 & model == \"{model}\" & experiment == \"{experiment}\"')\n",
    "    \n",
    "grouped = df.groupby('horizon')        \n",
    "avg = grouped[metric].aggregate(np.nanmean).values\n",
    "std = grouped[metric].aggregate(np.nanstd).values\n",
    "\n",
    "fig, ax = plt.subplots(figsize=(7, 4))\n",
    "ax.plot(df.horizon.unique(), avg)\n",
    "ax.fill_between(df.horizon.unique(), avg-std, avg+std, alpha=0.2)\n",
    "ax.set_ylabel(metric, fontsize=14)\n",
    "ax.set_xlabel('forcasting horizon [h]', fontsize=14)\n",
    "ax.grid(color = 'gray', linestyle = '-', alpha=0.2)"
   ]
  },
  {
   "cell_type": "markdown",
   "id": "cfc67785",
   "metadata": {},
   "source": [
    "## Plot example prediction"
   ]
  },
  {
   "cell_type": "markdown",
   "id": "b90487c2",
   "metadata": {},
   "source": [
    "### Load results from disk"
   ]
  },
  {
   "cell_type": "code",
   "execution_count": 36,
   "id": "0327e219",
   "metadata": {
    "ExecuteTime": {
     "end_time": "2022-07-25T13:27:55.492768Z",
     "start_time": "2022-07-25T13:27:34.599514Z"
    }
   },
   "outputs": [],
   "source": [
    "results = []\n",
    "for t in range(1, config['task']['repeats']+1):\n",
    "    file = os.path.join(result_dir, datasource, model, f'test_{test_year}', \n",
    "                        experiment, f'trial_{t}', 'results_fixedT0.csv')\n",
    "\n",
    "    if os.path.isfile(file):\n",
    "        df = pd.read_csv(file)\n",
    "        df['trial'] = t\n",
    "        results.append(df)\n",
    "\n",
    "results = pd.concat(results)"
   ]
  },
  {
   "cell_type": "markdown",
   "id": "a00842e6",
   "metadata": {},
   "source": [
    "### Ploting\n",
    "Please specify the `radar` for which you would like to plot a prediction. \n",
    "The `trial` specifies which of the model instances (trained with the same settings but different random seeds) you would like to inspect. `seqID` is the ID of the sequence that is plotted. You can have a look at `results_fixedT0.csv` to find a sequence starting at a specific time point."
   ]
  },
  {
   "cell_type": "code",
   "execution_count": 64,
   "id": "937f28e2",
   "metadata": {
    "ExecuteTime": {
     "end_time": "2022-07-25T13:53:51.273343Z",
     "start_time": "2022-07-25T13:53:51.267683Z"
    }
   },
   "outputs": [],
   "source": [
    "radar = 'dehnr'\n",
    "trial = 2\n",
    "seqID = 13"
   ]
  },
  {
   "cell_type": "code",
   "execution_count": 65,
   "id": "3799bb1e",
   "metadata": {
    "ExecuteTime": {
     "end_time": "2022-07-25T13:55:46.400789Z",
     "start_time": "2022-07-25T13:55:44.727891Z"
    }
   },
   "outputs": [
    {
     "ename": "KeyError",
     "evalue": "0",
     "output_type": "error",
     "traceback": [
      "\u001b[0;31m---------------------------------------------------------------------------\u001b[0m",
      "\u001b[0;31mKeyError\u001b[0m                                  Traceback (most recent call last)",
      "File \u001b[0;32m~/anaconda3/envs/fluxrgnn/lib/python3.9/site-packages/pandas/core/indexes/base.py:3621\u001b[0m, in \u001b[0;36mIndex.get_loc\u001b[0;34m(self, key, method, tolerance)\u001b[0m\n\u001b[1;32m   3620\u001b[0m \u001b[38;5;28;01mtry\u001b[39;00m:\n\u001b[0;32m-> 3621\u001b[0m     \u001b[38;5;28;01mreturn\u001b[39;00m \u001b[38;5;28;43mself\u001b[39;49m\u001b[38;5;241;43m.\u001b[39;49m\u001b[43m_engine\u001b[49m\u001b[38;5;241;43m.\u001b[39;49m\u001b[43mget_loc\u001b[49m\u001b[43m(\u001b[49m\u001b[43mcasted_key\u001b[49m\u001b[43m)\u001b[49m\n\u001b[1;32m   3622\u001b[0m \u001b[38;5;28;01mexcept\u001b[39;00m \u001b[38;5;167;01mKeyError\u001b[39;00m \u001b[38;5;28;01mas\u001b[39;00m err:\n",
      "File \u001b[0;32m~/anaconda3/envs/fluxrgnn/lib/python3.9/site-packages/pandas/_libs/index.pyx:136\u001b[0m, in \u001b[0;36mpandas._libs.index.IndexEngine.get_loc\u001b[0;34m()\u001b[0m\n",
      "File \u001b[0;32m~/anaconda3/envs/fluxrgnn/lib/python3.9/site-packages/pandas/_libs/index.pyx:163\u001b[0m, in \u001b[0;36mpandas._libs.index.IndexEngine.get_loc\u001b[0;34m()\u001b[0m\n",
      "File \u001b[0;32mpandas/_libs/hashtable_class_helper.pxi:2131\u001b[0m, in \u001b[0;36mpandas._libs.hashtable.Int64HashTable.get_item\u001b[0;34m()\u001b[0m\n",
      "File \u001b[0;32mpandas/_libs/hashtable_class_helper.pxi:2140\u001b[0m, in \u001b[0;36mpandas._libs.hashtable.Int64HashTable.get_item\u001b[0;34m()\u001b[0m\n",
      "\u001b[0;31mKeyError\u001b[0m: 0",
      "\nThe above exception was the direct cause of the following exception:\n",
      "\u001b[0;31mKeyError\u001b[0m                                  Traceback (most recent call last)",
      "Input \u001b[0;32mIn [65]\u001b[0m, in \u001b[0;36m<cell line: 24>\u001b[0;34m()\u001b[0m\n\u001b[1;32m     19\u001b[0m     ax\u001b[38;5;241m.\u001b[39mbar(xrange\u001b[38;5;241m+\u001b[39m\u001b[38;5;241m0.6\u001b[39m, df\u001b[38;5;241m.\u001b[39msource_sink\u001b[38;5;241m.\u001b[39mvalues, width\u001b[38;5;241m=\u001b[39m\u001b[38;5;241m0.4\u001b[39m, alpha\u001b[38;5;241m=\u001b[39m\u001b[38;5;241m0.8\u001b[39m, \n\u001b[1;32m     20\u001b[0m               label\u001b[38;5;241m=\u001b[39m\u001b[38;5;124m'\u001b[39m\u001b[38;5;124msource - sink\u001b[39m\u001b[38;5;124m'\u001b[39m, color\u001b[38;5;241m=\u001b[39m\u001b[38;5;124m'\u001b[39m\u001b[38;5;124m#999900\u001b[39m\u001b[38;5;124m'\u001b[39m, edgecolor\u001b[38;5;241m=\u001b[39m\u001b[38;5;28;01mNone\u001b[39;00m)\n\u001b[1;32m     21\u001b[0m     ax\u001b[38;5;241m.\u001b[39mbar(xrange\u001b[38;5;241m+\u001b[39m\u001b[38;5;241m1\u001b[39m, \u001b[38;5;241m-\u001b[39mdf\u001b[38;5;241m.\u001b[39mnet_flux\u001b[38;5;241m.\u001b[39mvalues, width\u001b[38;5;241m=\u001b[39m\u001b[38;5;241m0.4\u001b[39m, alpha\u001b[38;5;241m=\u001b[39m\u001b[38;5;241m0.8\u001b[39m, \n\u001b[1;32m     22\u001b[0m               label\u001b[38;5;241m=\u001b[39m\u001b[38;5;124m'\u001b[39m\u001b[38;5;124minflux - outflux\u001b[39m\u001b[38;5;124m'\u001b[39m, color\u001b[38;5;241m=\u001b[39m\u001b[38;5;124m'\u001b[39m\u001b[38;5;124m#006666\u001b[39m\u001b[38;5;124m'\u001b[39m)\n\u001b[0;32m---> 24\u001b[0m ax\u001b[38;5;241m.\u001b[39mset_title(\u001b[38;5;124mf\u001b[39m\u001b[38;5;124m'\u001b[39m\u001b[38;5;132;01m{\u001b[39;00mdf\u001b[38;5;241m.\u001b[39mdatetime[\u001b[38;5;241m0\u001b[39m]\u001b[38;5;132;01m}\u001b[39;00m\u001b[38;5;124m -- \u001b[39m\u001b[38;5;132;01m{\u001b[39;00mdf\u001b[38;5;241m.\u001b[39mdatetime[\u001b[38;5;241m-\u001b[39m\u001b[38;5;241m1\u001b[39m]\u001b[38;5;132;01m}\u001b[39;00m\u001b[38;5;124m'\u001b[39m)\n\u001b[1;32m     25\u001b[0m ax\u001b[38;5;241m.\u001b[39mset_ylabel(\u001b[38;5;124mr\u001b[39m\u001b[38;5;124m'\u001b[39m\u001b[38;5;124mbirds [km$^\u001b[39m\u001b[38;5;124m{\u001b[39m\u001b[38;5;124m-2}$]\u001b[39m\u001b[38;5;124m'\u001b[39m, fontsize\u001b[38;5;241m=\u001b[39m\u001b[38;5;241m14\u001b[39m)\n\u001b[1;32m     26\u001b[0m ax\u001b[38;5;241m.\u001b[39mset_xlabel(\u001b[38;5;124m'\u001b[39m\u001b[38;5;124mforecasting horizon [h]\u001b[39m\u001b[38;5;124m'\u001b[39m)\n",
      "File \u001b[0;32m~/anaconda3/envs/fluxrgnn/lib/python3.9/site-packages/pandas/core/series.py:958\u001b[0m, in \u001b[0;36mSeries.__getitem__\u001b[0;34m(self, key)\u001b[0m\n\u001b[1;32m    955\u001b[0m     \u001b[38;5;28;01mreturn\u001b[39;00m \u001b[38;5;28mself\u001b[39m\u001b[38;5;241m.\u001b[39m_values[key]\n\u001b[1;32m    957\u001b[0m \u001b[38;5;28;01melif\u001b[39;00m key_is_scalar:\n\u001b[0;32m--> 958\u001b[0m     \u001b[38;5;28;01mreturn\u001b[39;00m \u001b[38;5;28;43mself\u001b[39;49m\u001b[38;5;241;43m.\u001b[39;49m\u001b[43m_get_value\u001b[49m\u001b[43m(\u001b[49m\u001b[43mkey\u001b[49m\u001b[43m)\u001b[49m\n\u001b[1;32m    960\u001b[0m \u001b[38;5;28;01mif\u001b[39;00m is_hashable(key):\n\u001b[1;32m    961\u001b[0m     \u001b[38;5;66;03m# Otherwise index.get_value will raise InvalidIndexError\u001b[39;00m\n\u001b[1;32m    962\u001b[0m     \u001b[38;5;28;01mtry\u001b[39;00m:\n\u001b[1;32m    963\u001b[0m         \u001b[38;5;66;03m# For labels that don't resolve as scalars like tuples and frozensets\u001b[39;00m\n",
      "File \u001b[0;32m~/anaconda3/envs/fluxrgnn/lib/python3.9/site-packages/pandas/core/series.py:1069\u001b[0m, in \u001b[0;36mSeries._get_value\u001b[0;34m(self, label, takeable)\u001b[0m\n\u001b[1;32m   1066\u001b[0m     \u001b[38;5;28;01mreturn\u001b[39;00m \u001b[38;5;28mself\u001b[39m\u001b[38;5;241m.\u001b[39m_values[label]\n\u001b[1;32m   1068\u001b[0m \u001b[38;5;66;03m# Similar to Index.get_value, but we do not fall back to positional\u001b[39;00m\n\u001b[0;32m-> 1069\u001b[0m loc \u001b[38;5;241m=\u001b[39m \u001b[38;5;28;43mself\u001b[39;49m\u001b[38;5;241;43m.\u001b[39;49m\u001b[43mindex\u001b[49m\u001b[38;5;241;43m.\u001b[39;49m\u001b[43mget_loc\u001b[49m\u001b[43m(\u001b[49m\u001b[43mlabel\u001b[49m\u001b[43m)\u001b[49m\n\u001b[1;32m   1070\u001b[0m \u001b[38;5;28;01mreturn\u001b[39;00m \u001b[38;5;28mself\u001b[39m\u001b[38;5;241m.\u001b[39mindex\u001b[38;5;241m.\u001b[39m_get_values_for_loc(\u001b[38;5;28mself\u001b[39m, loc, label)\n",
      "File \u001b[0;32m~/anaconda3/envs/fluxrgnn/lib/python3.9/site-packages/pandas/core/indexes/base.py:3623\u001b[0m, in \u001b[0;36mIndex.get_loc\u001b[0;34m(self, key, method, tolerance)\u001b[0m\n\u001b[1;32m   3621\u001b[0m     \u001b[38;5;28;01mreturn\u001b[39;00m \u001b[38;5;28mself\u001b[39m\u001b[38;5;241m.\u001b[39m_engine\u001b[38;5;241m.\u001b[39mget_loc(casted_key)\n\u001b[1;32m   3622\u001b[0m \u001b[38;5;28;01mexcept\u001b[39;00m \u001b[38;5;167;01mKeyError\u001b[39;00m \u001b[38;5;28;01mas\u001b[39;00m err:\n\u001b[0;32m-> 3623\u001b[0m     \u001b[38;5;28;01mraise\u001b[39;00m \u001b[38;5;167;01mKeyError\u001b[39;00m(key) \u001b[38;5;28;01mfrom\u001b[39;00m \u001b[38;5;21;01merr\u001b[39;00m\n\u001b[1;32m   3624\u001b[0m \u001b[38;5;28;01mexcept\u001b[39;00m \u001b[38;5;167;01mTypeError\u001b[39;00m:\n\u001b[1;32m   3625\u001b[0m     \u001b[38;5;66;03m# If we have a listlike key, _check_indexing_error will raise\u001b[39;00m\n\u001b[1;32m   3626\u001b[0m     \u001b[38;5;66;03m#  InvalidIndexError. Otherwise we fall through and re-raise\u001b[39;00m\n\u001b[1;32m   3627\u001b[0m     \u001b[38;5;66;03m#  the TypeError.\u001b[39;00m\n\u001b[1;32m   3628\u001b[0m     \u001b[38;5;28mself\u001b[39m\u001b[38;5;241m.\u001b[39m_check_indexing_error(key)\n",
      "\u001b[0;31mKeyError\u001b[0m: 0"
     ]
    },
    {
     "data": {
      "image/png": "[encoded data removed]",
      "text/plain": [
       "<Figure size 864x288 with 1 Axes>"
      ]
     },
     "metadata": {
      "needs_background": "light"
     },
     "output_type": "display_data"
    }
   ],
   "source": [
    "df = results.query(f'radar == \"{radar}\" & seqID == {seqID} & trial == {trial}').copy()\n",
    "\n",
    "fig, ax = plt.subplots(figsize=(12, 4))\n",
    "\n",
    "ax.plot(df.horizon.values, df.gt_km2.values, marker='s', ms=4, linewidth=1, \n",
    "           color='#0a3142', label='radar measurement')\n",
    "ax.plot(df.horizon.values, df.prediction_km2.values, marker='o', ms=4, linewidth=1, \n",
    "           color='#ff9900', label='prediction')\n",
    "ax.axvline(0, lw=1, color='k')\n",
    "\n",
    "if model == 'FluxRGNN':\n",
    "    df['source_sink'] = df.apply(lambda row: row.source_km2 - row.sink_km2, axis=1)\n",
    "    df['net_flux'] = df.apply(lambda row: row.influx_km2 - row.outflux_km2, axis=1)\n",
    "\n",
    "    maxy = max(df['gt_km2'].max(), df['prediction_km2'].max()) + 5\n",
    "    miny = min(df['source_sink'].min(), df['net_flux'].min()) - 5\n",
    "\n",
    "    xrange = np.arange(df.horizon.min(), df.horizon.max()+1)\n",
    "    ax.bar(xrange+0.6, df.source_sink.values, width=0.4, alpha=0.8, \n",
    "              label='source - sink', color='#999900', edgecolor=None)\n",
    "    ax.bar(xrange+1, -df.net_flux.values, width=0.4, alpha=0.8, \n",
    "              label='influx - outflux', color='#006666')\n",
    "    \n",
    "ax.set_title(f'{df.datetime[0]} -- {df.datetime[-1]}')\n",
    "ax.set_ylabel(r'birds [km$^{-2}$]', fontsize=14)\n",
    "ax.set_xlabel('forecasting horizon [h]')\n",
    "ax.set(ylim=(miny, maxy), xlim=(xrange[0], xrange[-1]))\n",
    "ax.tick_params(axis='y', which='major', labelsize=12)\n",
    "ax.legend(loc='center right', fontsize=12, bbox_to_anchor=(1.3, 0.5));"
   ]
  },
  {
   "cell_type": "code",
   "execution_count": 66,
   "id": "d6157e4b",
   "metadata": {
    "ExecuteTime": {
     "end_time": "2022-07-25T13:55:56.953205Z",
     "start_time": "2022-07-25T13:55:56.939554Z"
    }
   },
   "outputs": [
    {
     "data": {
      "text/plain": [
       "46944    2017-09-18 18:00:00+00:00\n",
       "46945    2017-09-18 19:00:00+00:00\n",
       "46946    2017-09-18 20:00:00+00:00\n",
       "46947    2017-09-18 21:00:00+00:00\n",
       "46948    2017-09-18 22:00:00+00:00\n",
       "                   ...            \n",
       "47035    2017-09-22 13:00:00+00:00\n",
       "47036    2017-09-22 14:00:00+00:00\n",
       "47037    2017-09-22 15:00:00+00:00\n",
       "47038    2017-09-22 16:00:00+00:00\n",
       "47039    2017-09-22 17:00:00+00:00\n",
       "Name: datetime, Length: 96, dtype: object"
      ]
     },
     "execution_count": 66,
     "metadata": {},
     "output_type": "execute_result"
    }
   ],
   "source": [
    "df.datetime"
   ]
  },
  {
   "cell_type": "code",
   "execution_count": null,
   "id": "f082df85",
   "metadata": {},
   "outputs": [],
   "source": []
  }
 ],
 "metadata": {
  "hide_input": false,
  "kernelspec": {
   "display_name": "Python [conda env:fluxrgnn]",
   "language": "python",
   "name": "conda-env-fluxrgnn-py"
  },
  "language_info": {
   "codemirror_mode": {
    "name": "ipython",
    "version": 3
   },
   "file_extension": ".py",
   "mimetype": "text/x-python",
   "name": "python",
   "nbconvert_exporter": "python",
   "pygments_lexer": "ipython3",
   "version": "3.9.6"
  },
  "toc": {
   "base_numbering": 1,
   "nav_menu": {},
   "number_sections": true,
   "sideBar": true,
   "skip_h1_title": false,
   "title_cell": "Table of Contents",
   "title_sidebar": "Contents",
   "toc_cell": false,
   "toc_position": {},
   "toc_section_display": true,
   "toc_window_display": false
  },
  "varInspector": {
   "cols": {
    "lenName": 16,
    "lenType": 16,
    "lenVar": 40
   },
   "kernels_config": {
    "python": {
     "delete_cmd_postfix": "",
     "delete_cmd_prefix": "del ",
     "library": "var_list.py",
     "varRefreshCmd": "print(var_dic_list())"
    },
    "r": {
     "delete_cmd_postfix": ") ",
     "delete_cmd_prefix": "rm(",
     "library": "var_list.r",
     "varRefreshCmd": "cat(var_dic_list()) "
    }
   },
   "types_to_exclude": [
    "module",
    "function",
    "builtin_function_or_method",
    "instance",
    "_Feature"
   ],
   "window_display": false
  }
 },
 "nbformat": 4,
 "nbformat_minor": 5
}
