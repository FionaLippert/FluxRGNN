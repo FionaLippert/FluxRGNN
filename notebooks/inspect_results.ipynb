{
 "cells": [
  {
   "cell_type": "code",
   "execution_count": 61,
   "id": "0116b61d",
   "metadata": {
    "ExecuteTime": {
     "end_time": "2022-07-25T13:46:15.429742Z",
     "start_time": "2022-07-25T13:46:15.414163Z"
    }
   },
   "outputs": [],
   "source": [
    "import os\n",
    "import pandas as pd\n",
    "import numpy as np\n"
    "from matplotlib import pyplot as plt\n",
    "from yaml import Loader, FullLoader, load\n",
    "\n",
    "%matplotlib inline"
   ]
  },
  {
   "cell_type": "code",
   "execution_count": 8,
   "id": "fb86f176",
   "metadata": {
    "ExecuteTime": {
     "end_time": "2022-07-25T12:31:19.697917Z",
     "start_time": "2022-07-25T12:31:19.691029Z"
    }
   },
   "outputs": [],
   "source": [
    "base_dir = os.path.dirname(os.getcwd())\n",
    "result_dir = os.path.join(base_dir, 'results')"
   ]
  },
  {
   "cell_type": "markdown",
   "id": "339078a3",
   "metadata": {},
   "source": [
    "## Settings\n",
    "\n",
    "Please adjust the following settings depending on what you want to plot. \n",
    "\n",
    "`experiment` refers to the experiment name given to the training run that you would like to inspect. \n",
    "\n",
    "`subdir` refers to the directory to which the evaluation metrics have been written to. If you've specified the `experiment_type` when running `evaluate_performance.py`, `subdir` should be set to the same name, otherwise it should be set to `{model}_only`, where `model` is replaced by the name of the model you've been using.\n",
    "\n",
    "`metric` can be set to one of the following evaluation metrics:\n",
    "- `rmse` (root mean squared error), \n",
    "- `pcc` (Pearson correlation coefficient)\n",
    "- `mae` (mean absolute error)."
   ]
  },
  {
   "cell_type": "code",
   "execution_count": 32,
   "id": "59c6344f",
   "metadata": {
    "ExecuteTime": {
     "end_time": "2022-07-25T13:16:18.693557Z",
     "start_time": "2022-07-25T13:16:18.685049Z"
    }
   },
   "outputs": [],
   "source": [
    "datasource = 'radar'\n",
    "model = 'FluxRGNN'\n",
    "test_year = '2017'\n",
    "experiment = 'final'\n",
    "subdir = 'final'\n",
    "metric = 'rmse'"
   ]
  },
  {
   "cell_type": "markdown",
   "id": "74df598c",
   "metadata": {},
   "source": [
    "## Load config file"
   ]
  },
  {
   "cell_type": "code",
   "execution_count": 34,
   "id": "183fe2a4",
   "metadata": {
    "ExecuteTime": {
     "end_time": "2022-07-25T13:20:56.584897Z",
     "start_time": "2022-07-25T13:20:56.429268Z"
    }
   },
   "outputs": [],
   "source": [
    "cfg_path = os.path.join(result_dir, datasource, model, f'test_{test_year}', \n",
    "                   experiment, 'trial_1', 'config.yaml')\n",
    "with open(cfg_path) as f:\n",
    "    config = load(f, Loader=FullLoader)"
   ]
  },
  {
   "cell_type": "markdown",
   "id": "97c95ac4",
   "metadata": {},
   "source": [
    "## Plot predictive performance\n",
    "Note that here the RMSE is plotted in terms of $\\textrm{birds/km}^2$, and not in terms of rescaled quanities (between 0 and 1) as it is done in our paper. "
   ]
  },
  {
   "cell_type": "code",
   "execution_count": 63,
   "id": "7ed72165",
   "metadata": {
    "ExecuteTime": {
     "end_time": "2022-07-25T13:47:16.626477Z",
     "start_time": "2022-07-25T13:47:16.375714Z"
    }
   },
   "outputs": [
    {
     "data": {
      "image/png": "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\n",
      "text/plain": [
       "<Figure size 504x288 with 1 Axes>"
      ]
     },
     "metadata": {
      "needs_background": "light"
     },
     "output_type": "display_data"
    }
   ],
   "source": [
    "eval_path = os.path.join(result_dir, datasource, 'performance_evaluation', subdir)\n",
    "df = pd.read_csv(os.path.join(eval_path, f'{metric}_per_hour.csv'))\n",
    "df = df.query(f'horizon > 0 & horizon <= 72 & model == \"{model}\" & experiment == \"{experiment}\"')\n",
    "    \n",
    "grouped = df.groupby('horizon')        \n",
    "avg = grouped[metric].aggregate(np.nanmean).values\n",
    "std = grouped[metric].aggregate(np.nanstd).values\n",
    "\n",
    "fig, ax = plt.subplots(figsize=(7, 4))\n",
    "ax.plot(df.horizon.unique(), avg)\n",
    "ax.fill_between(df.horizon.unique(), avg-std, avg+std, alpha=0.2)\n",
    "ax.set_ylabel(metric, fontsize=14)\n",
    "ax.set_xlabel('forcasting horizon [h]', fontsize=14)\n",
    "ax.grid(color = 'gray', linestyle = '-', alpha=0.2)"
   ]
  },
  {
   "cell_type": "markdown",
   "id": "ff3d2066",
   "metadata": {},
   "source": [
    "## Plot example prediction"
   ]
  },
  {
   "cell_type": "markdown",
   "id": "3d228c15",
   "metadata": {},
   "source": [
    "### Load results from disk"
   ]
  },
  {
   "cell_type": "code",
   "execution_count": 36,
   "id": "54b804d7",
   "metadata": {
    "ExecuteTime": {
     "end_time": "2022-07-25T13:27:55.492768Z",
     "start_time": "2022-07-25T13:27:34.599514Z"
    }
   },
   "outputs": [],
   "source": [
    "results = []\n",
    "for t in range(1, config['task']['repeats']+1):\n",
    "    file = os.path.join(result_dir, datasource, model, f'test_{test_year}', \n",
    "                        experiment, f'trial_{t}', 'results_fixedT0.csv')\n",
    "\n",
    "    if os.path.isfile(file):\n",
    "        df = pd.read_csv(file)\n",
    "        df['trial'] = t\n",
    "        results.append(df)\n",
    "\n",
    "results = pd.concat(results)"
   ]
  },
  {
   "cell_type": "markdown",
   "id": "a7b6a363",
   "metadata": {},
   "source": [
    "### Plotting\n",
    "Please specify the `radar` for which you would like to plot a prediction. \n",
    "The `trial` specifies which of the model instances (trained with the same settings but different random seeds) you would like to inspect. `seqID` is the ID of the sequence that is plotted. You can have a look at `results_fixedT0.csv` to find a sequence starting at a specific time point."
   ]
  },
  {
   "cell_type": "code",
   "execution_count": 76,
   "id": "e3482498",
   "metadata": {
    "ExecuteTime": {
     "end_time": "2022-07-25T15:27:41.277654Z",
     "start_time": "2022-07-25T15:27:41.265880Z"
    }
   },
   "outputs": [],
   "source": [
    "radar = 'deros'\n",
    "trial = 1\n",
    "seqID = 13"
   ]
  },
  {
   "cell_type": "code",
   "execution_count": 77,
   "id": "8f35c4c3",
   "metadata": {
    "ExecuteTime": {
     "end_time": "2022-07-25T15:27:42.031963Z",
     "start_time": "2022-07-25T15:27:41.688625Z"
    }
   },
   "outputs": [
    {
     "data": {
      "image/png": "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\n",
      "text/plain": [
       "<Figure size 864x288 with 1 Axes>"
      ]
     },
     "metadata": {
      "needs_background": "light"
     },
     "output_type": "display_data"
    }
   ],
   "source": [
    "df = results.query(f'radar == \"{radar}\" & seqID == {seqID} & trial == {trial}').copy()\n",
    "\n",
    "fig, ax = plt.subplots(figsize=(12, 4))\n",
    "\n",
    "ax.plot(df.horizon.values, df.gt_km2.values, marker='s', ms=4, linewidth=1, \n",
    "           color='#0a3142', label='radar measurement')\n",
    "ax.plot(df.horizon.values, df.prediction_km2.values, marker='o', ms=4, linewidth=1, \n",
    "           color='#ff9900', label='prediction')\n",
    "ax.axvline(0, lw=1, color='k')\n",
    "\n",
    "if model == 'FluxRGNN':\n",
    "    df['source_sink'] = df.apply(lambda row: row.source_km2 - row.sink_km2, axis=1)\n",
    "    df['net_flux'] = df.apply(lambda row: row.influx_km2 - row.outflux_km2, axis=1)\n",
    "\n",
    "    maxy = max(df['gt_km2'].max(), df['prediction_km2'].max()) + 5\n",
    "    miny = min(df['source_sink'].min(), df['net_flux'].min()) - 5\n",
    "\n",
    "    xrange = np.arange(df.horizon.min(), df.horizon.max()+1)\n",
    "    ax.bar(xrange+0.6, df.source_sink.values, width=0.4, alpha=0.8, \n",
    "              label='source - sink', color='#999900', edgecolor=None)\n",
    "    ax.bar(xrange+1, -df.net_flux.values, width=0.4, alpha=0.8, \n",
    "              label='influx - outflux', color='#006666')\n",
    "    \n",
    "ax.set_title(f'{df.datetime.values[0]} to {df.datetime.values[-1]}')\n",
    "ax.set_ylabel(r'birds [km$^{-2}$]', fontsize=14)\n",
    "ax.set_xlabel('forecasting horizon [h]', fontsize=14)\n",
    "ax.set(ylim=(miny, maxy), xlim=(xrange[0], xrange[-1]))\n",
    "ax.tick_params(axis='y', which='major', labelsize=12)\n",
    "ax.legend(loc='center right', fontsize=12, bbox_to_anchor=(1.3, 0.5));"
   ]
  },
  {
   "cell_type": "code",
   "execution_count": null,
   "id": "3f056cdb",
   "metadata": {},
   "outputs": [],
   "source": []
  }
 ],
 "metadata": {
  "hide_input": false,
  "kernelspec": {
   "display_name": "Python [conda env:fluxrgnn]",
   "language": "python",
   "name": "conda-env-fluxrgnn-py"
  },
  "language_info": {
   "codemirror_mode": {
    "name": "ipython",
    "version": 3
   },
   "file_extension": ".py",
   "mimetype": "text/x-python",
   "name": "python",
   "nbconvert_exporter": "python",
   "pygments_lexer": "ipython3",
   "version": "3.9.6"
  },
  "toc": {
   "base_numbering": 1,
   "nav_menu": {},
   "number_sections": true,
   "sideBar": true,
   "skip_h1_title": false,
   "title_cell": "Table of Contents",
   "title_sidebar": "Contents",
   "toc_cell": false,
   "toc_position": {},
   "toc_section_display": true,
   "toc_window_display": false
  },
  "varInspector": {
   "cols": {
    "lenName": 16,
    "lenType": 16,
    "lenVar": 40
   },
   "kernels_config": {
    "python": {
     "delete_cmd_postfix": "",
     "delete_cmd_prefix": "del ",
     "library": "var_list.py",
     "varRefreshCmd": "print(var_dic_list())"
    },
    "r": {
     "delete_cmd_postfix": ") ",
     "delete_cmd_prefix": "rm(",
     "library": "var_list.r",
     "varRefreshCmd": "cat(var_dic_list()) "
    }
   },
   "types_to_exclude": [
    "module",
    "function",
    "builtin_function_or_method",
    "instance",
    "_Feature"
   ],
   "window_display": false
  }
 },
 "nbformat": 4,
 "nbformat_minor": 5
}
