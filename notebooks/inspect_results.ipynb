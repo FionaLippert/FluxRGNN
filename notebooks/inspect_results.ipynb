{
 "cells": [
  {
   "cell_type": "code",
   "execution_count": 61,
   "id": "8a7e7882",
   "metadata": {
    "ExecuteTime": {
     "end_time": "2022-07-25T13:46:15.429742Z",
     "start_time": "2022-07-25T13:46:15.414163Z"
    }
   },
   "outputs": [],
   "source": [
    "import os\n",
    "import pandas as pd\n",
    "from matplotlib import pyplot as plt\n",
    "from yaml import Loader, FullLoader, load\n",
    "\n",
    "%matplotlib inline"
   ]
  },
  {
   "cell_type": "code",
   "execution_count": 8,
   "id": "0c5efb1c",
   "metadata": {
    "ExecuteTime": {
     "end_time": "2022-07-25T12:31:19.697917Z",
     "start_time": "2022-07-25T12:31:19.691029Z"
    }
   },
   "outputs": [],
   "source": [
    "base_dir = os.path.dirname(os.getcwd())\n",
    "result_dir = os.path.join(base_dir, 'results')"
   ]
  },
  {
   "cell_type": "markdown",
   "id": "12b19b81",
   "metadata": {},
   "source": [
    "## Settings\n",
    "\n",
    "Please adjust the following settings depending on what you want to plot. \n",
    "\n",
    "`experiment` refers to the experiment name given to the training run that you would like to inspect. \n",
    "\n",
    "`subdir` refers to the directory to which the evaluation metrics have been written to. If you've specified the `experiment_type` when running `evaluate_performance.py`, `subdir` should be set to the same name, otherwise it should be set to `{model}_only`, where `model` is replaced by the name of the model you've been using.\n",
    "\n",
    "`metric` can be set to one of the following evaluation metrics:\n",
    "- `rmse` (root mean squared error), \n",
    "- `pcc` (Pearson correlation coefficient)\n",
    "- `mae` (mean absolute error)."
   ]
  },
  {
   "cell_type": "code",
   "execution_count": 32,
   "id": "a9c06a06",
   "metadata": {
    "ExecuteTime": {
     "end_time": "2022-07-25T13:16:18.693557Z",
     "start_time": "2022-07-25T13:16:18.685049Z"
    }
   },
   "outputs": [],
   "source": [
    "datasource = 'radar'\n",
    "model = 'FluxRGNN'\n",
    "test_year = '2017'\n",
    "experiment = 'final'\n",
    "subdir = 'final'\n",
    "metric = 'rmse'"
   ]
  },
  {
   "cell_type": "markdown",
   "id": "ba373f63",
   "metadata": {},
   "source": [
    "## Load config file"
   ]
  },
  {
   "cell_type": "code",
   "execution_count": 34,
   "id": "107d2b33",
   "metadata": {
    "ExecuteTime": {
     "end_time": "2022-07-25T13:20:56.584897Z",
     "start_time": "2022-07-25T13:20:56.429268Z"
    }
   },
   "outputs": [],
   "source": [
    "cfg_path = os.path.join(result_dir, datasource, model, f'test_{test_year}', \n",
    "                   experiment, 'trial_1', 'config.yaml')\n",
    "with open(cfg_path) as f:\n",
    "    config = load(f, Loader=FullLoader)"
   ]
  },
  {
   "cell_type": "markdown",
   "id": "881be0c3",
   "metadata": {},
   "source": [
    "## Plot predictive performance\n",
    "Note that here the RMSE is plotted in terms of $\\textrm{birds/km}^2$, and not in terms of rescaled quanities (between 0 and 1) as it is done in our paper. "
   ]
  },
  {
   "cell_type": "code",
   "execution_count": 63,
   "id": "a00f86a0",
   "metadata": {
    "ExecuteTime": {
     "end_time": "2022-07-25T13:47:16.626477Z",
     "start_time": "2022-07-25T13:47:16.375714Z"
    }
   },
   "outputs": [
    {
     "data": {
      "image/png": "[encoded data removed]",
      "text/plain": [
       "<Figure size 504x288 with 1 Axes>"
      ]
     },
     "metadata": {
      "needs_background": "light"
     },
     "output_type": "display_data"
    }
   ],
   "source": [
    "eval_path = os.path.join(result_dir, datasource, 'performance_evaluation', subdir)\n",
    "df = pd.read_csv(os.path.join(eval_path, f'{metric}_per_hour.csv'))\n",
    "df = df.query(f'horizon > 0 & horizon <= 72 & model == \"{model}\" & experiment == \"{experiment}\"')\n",
    "    \n",
    "grouped = df.groupby('horizon')        \n",
    "avg = grouped[metric].aggregate(np.nanmean).values\n",
    "std = grouped[metric].aggregate(np.nanstd).values\n",
    "\n",
    "fig, ax = plt.subplots(figsize=(7, 4))\n",
    "ax.plot(df.horizon.unique(), avg)\n",
    "ax.fill_between(df.horizon.unique(), avg-std, avg+std, alpha=0.2)\n",
    "ax.set_ylabel(metric, fontsize=14)\n",
    "ax.set_xlabel('forcasting horizon [h]', fontsize=14)\n",
    "ax.grid(color = 'gray', linestyle = '-', alpha=0.2)"
   ]
  },
  {
   "cell_type": "markdown",
   "id": "ff0845c6",
   "metadata": {},
   "source": [
    "## Plot example prediction"
   ]
  },
  {
   "cell_type": "markdown",
   "id": "b6c8ad69",
   "metadata": {},
   "source": [
    "### Load results from disk"
   ]
  },
  {
   "cell_type": "code",
   "execution_count": 36,
   "id": "43f63d69",
   "metadata": {
    "ExecuteTime": {
     "end_time": "2022-07-25T13:27:55.492768Z",
     "start_time": "2022-07-25T13:27:34.599514Z"
    }
   },
   "outputs": [],
   "source": [
    "results = []\n",
    "for t in range(1, config['task']['repeats']+1):\n",
    "    file = os.path.join(result_dir, datasource, model, f'test_{test_year}', \n",
    "                        experiment, f'trial_{t}', 'results_fixedT0.csv')\n",
    "\n",
    "    if os.path.isfile(file):\n",
    "        df = pd.read_csv(file)\n",
    "        df['trial'] = t\n",
    "        results.append(df)\n",
    "\n",
    "results = pd.concat(results)"
   ]
  },
  {
   "cell_type": "markdown",
   "id": "697d9e07",
   "metadata": {},
   "source": [
    "### Plotting\n",
    "Please specify the `radar` for which you would like to plot a prediction. \n",
    "The `trial` specifies which of the model instances (trained with the same settings but different random seeds) you would like to inspect. `seqID` is the ID of the sequence that is plotted. You can have a look at `results_fixedT0.csv` to find a sequence starting at a specific time point."
   ]
  },
  {
   "cell_type": "code",
   "execution_count": 64,
   "id": "f1cf0b3b",
   "metadata": {
    "ExecuteTime": {
     "end_time": "2022-07-25T13:53:51.273343Z",
     "start_time": "2022-07-25T13:53:51.267683Z"
    }
   },
   "outputs": [],
   "source": [
    "radar = 'dehnr'\n",
    "trial = 2\n",
    "seqID = 13"
   ]
  },
  {
   "cell_type": "code",
   "execution_count": 71,
   "id": "426835f1",
   "metadata": {
    "ExecuteTime": {
     "end_time": "2022-07-25T13:57:20.677412Z",
     "start_time": "2022-07-25T13:57:20.275618Z"
    }
   },
   "outputs": [
    {
     "data": {
      "image/png": "[encoded data removed]",
      "text/plain": [
       "<Figure size 864x288 with 1 Axes>"
      ]
     },
     "metadata": {
      "needs_background": "light"
     },
     "output_type": "display_data"
    }
   ],
   "source": [
    "df = results.query(f'radar == \"{radar}\" & seqID == {seqID} & trial == {trial}').copy()\n",
    "\n",
    "fig, ax = plt.subplots(figsize=(12, 4))\n",
    "\n",
    "ax.plot(df.horizon.values, df.gt_km2.values, marker='s', ms=4, linewidth=1, \n",
    "           color='#0a3142', label='radar measurement')\n",
    "ax.plot(df.horizon.values, df.prediction_km2.values, marker='o', ms=4, linewidth=1, \n",
    "           color='#ff9900', label='prediction')\n",
    "ax.axvline(0, lw=1, color='k')\n",
    "\n",
    "if model == 'FluxRGNN':\n",
    "    df['source_sink'] = df.apply(lambda row: row.source_km2 - row.sink_km2, axis=1)\n",
    "    df['net_flux'] = df.apply(lambda row: row.influx_km2 - row.outflux_km2, axis=1)\n",
    "\n",
    "    maxy = max(df['gt_km2'].max(), df['prediction_km2'].max()) + 5\n",
    "    miny = min(df['source_sink'].min(), df['net_flux'].min()) - 5\n",
    "\n",
    "    xrange = np.arange(df.horizon.min(), df.horizon.max()+1)\n",
    "    ax.bar(xrange+0.6, df.source_sink.values, width=0.4, alpha=0.8, \n",
    "              label='source - sink', color='#999900', edgecolor=None)\n",
    "    ax.bar(xrange+1, -df.net_flux.values, width=0.4, alpha=0.8, \n",
    "              label='influx - outflux', color='#006666')\n",
    "    \n",
    "ax.set_title(f'{df.datetime.values[0]} to {df.datetime.values[-1]}')\n",
    "ax.set_ylabel(r'birds [km$^{-2}$]', fontsize=14)\n",
    "ax.set_xlabel('forecasting horizon [h]', fontsize=14)\n",
    "ax.set(ylim=(miny, maxy), xlim=(xrange[0], xrange[-1]))\n",
    "ax.tick_params(axis='y', which='major', labelsize=12)\n",
    "ax.legend(loc='center right', fontsize=12, bbox_to_anchor=(1.3, 0.5));"
   ]
  },
  {
   "cell_type": "code",
   "execution_count": null,
   "id": "dfcae51e",
   "metadata": {},
   "outputs": [],
   "source": []
  }
 ],
 "metadata": {
  "hide_input": false,
  "kernelspec": {
   "display_name": "Python [conda env:fluxrgnn]",
   "language": "python",
   "name": "conda-env-fluxrgnn-py"
  },
  "language_info": {
   "codemirror_mode": {
    "name": "ipython",
    "version": 3
   },
   "file_extension": ".py",
   "mimetype": "text/x-python",
   "name": "python",
   "nbconvert_exporter": "python",
   "pygments_lexer": "ipython3",
   "version": "3.9.6"
  },
  "toc": {
   "base_numbering": 1,
   "nav_menu": {},
   "number_sections": true,
   "sideBar": true,
   "skip_h1_title": false,
   "title_cell": "Table of Contents",
   "title_sidebar": "Contents",
   "toc_cell": false,
   "toc_position": {},
   "toc_section_display": true,
   "toc_window_display": false
  },
  "varInspector": {
   "cols": {
    "lenName": 16,
    "lenType": 16,
    "lenVar": 40
   },
   "kernels_config": {
    "python": {
     "delete_cmd_postfix": "",
     "delete_cmd_prefix": "del ",
     "library": "var_list.py",
     "varRefreshCmd": "print(var_dic_list())"
    },
    "r": {
     "delete_cmd_postfix": ") ",
     "delete_cmd_prefix": "rm(",
     "library": "var_list.r",
     "varRefreshCmd": "cat(var_dic_list()) "
    }
   },
   "types_to_exclude": [
    "module",
    "function",
    "builtin_function_or_method",
    "instance",
    "_Feature"
   ],
   "window_display": false
  }
 },
 "nbformat": 4,
 "nbformat_minor": 5
}
